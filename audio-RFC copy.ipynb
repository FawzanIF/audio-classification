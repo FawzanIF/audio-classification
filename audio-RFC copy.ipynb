{
 "cells": [
  {
   "cell_type": "code",
   "execution_count": 1,
   "metadata": {},
   "outputs": [],
   "source": [
    "import os\n",
    "import numpy as np\n",
    "from sklearn.model_selection import train_test_split\n",
    "from sklearn.ensemble import RandomForestClassifier\n",
    "from sklearn.metrics import accuracy_score, precision_score, recall_score, f1_score\n",
    "import librosa"
   ]
  },
  {
   "cell_type": "code",
   "execution_count": 2,
   "metadata": {},
   "outputs": [],
   "source": [
    "# Mendefinisikan path folder suara tinggi dan suara rendah\n",
    "path_suara_tinggi = \"Suara Tinggi\"\n",
    "path_suara_rendah = \"Suara rendah\""
   ]
  },
  {
   "cell_type": "code",
   "execution_count": 3,
   "metadata": {},
   "outputs": [],
   "source": [
    "# import os\n",
    "# import matplotlib.pyplot as plt\n",
    "# import librosa\n",
    "\n",
    "# # Mendapatkan list file suara dalam folder\n",
    "# file_list = os.listdir(path_suara_tinggi)\n",
    "\n",
    "# # Memilih hanya 3 file pertama\n",
    "# selected_files = file_list[:3]\n",
    "\n",
    "# # Loop melalui file-file yang dipilih\n",
    "# for file_name in selected_files:\n",
    "#     # Path ke file suara\n",
    "#     audio_path = os.path.join(path_suara_tinggi, file_name)\n",
    "    \n",
    "#     # Baca data suara menggunakan Librosa\n",
    "#     audio_data, sampling_rate = librosa.load(audio_path)\n",
    "    \n",
    "#     # Tampilkan visualisasi data suara menggunakan Matplotlib\n",
    "#     plt.figure(figsize=(8, 3))\n",
    "#     plt.plot(audio_data)\n",
    "#     plt.title(f'Waveform Data Suara Tinggi - {file_name}')\n",
    "#     plt.xlabel('Waktu (frame)')\n",
    "#     plt.ylabel('Amplitudo')\n",
    "#     plt.show()"
   ]
  },
  {
   "cell_type": "code",
   "execution_count": 4,
   "metadata": {},
   "outputs": [],
   "source": [
    "# import os\n",
    "# import matplotlib.pyplot as plt\n",
    "# import librosa\n",
    "\n",
    "# # Mendapatkan list file suara dalam folder\n",
    "# file_list = os.listdir(path_suara_rendah)\n",
    "\n",
    "# # Memilih hanya 3 file pertama\n",
    "# selected_files = file_list[:3]\n",
    "\n",
    "# # Loop melalui file-file yang dipilih\n",
    "# for file_name in selected_files:\n",
    "#     # Path ke file suara\n",
    "#     audio_path = os.path.join(path_suara_rendah, file_name)\n",
    "    \n",
    "#     # Baca data suara menggunakan Librosa\n",
    "#     audio_data, sampling_rate = librosa.load(audio_path)\n",
    "    \n",
    "#     # Tampilkan visualisasi data suara menggunakan Matplotlib\n",
    "#     plt.figure(figsize=(8, 3))\n",
    "#     plt.plot(audio_data)\n",
    "#     plt.title(f'Waveform Data Suara Rendah - {file_name}')\n",
    "#     plt.xlabel('Waktu (frame)')\n",
    "#     plt.ylabel('Amplitudo')\n",
    "#     plt.show()"
   ]
  },
  {
   "cell_type": "code",
   "execution_count": 5,
   "metadata": {},
   "outputs": [],
   "source": [
    "# Fungsi untuk mengekstraksi fitur MFCC dari suara\n",
    "def extract_mfcc(audio):\n",
    "    audio, sample_rate = librosa.load(audio)\n",
    "    mfcc_features = librosa.feature.mfcc(y=audio, sr=sample_rate, n_mfcc=20)  # Mengambil 20 koefisien MFCC\n",
    "    return mfcc_features.T"
   ]
  },
  {
   "cell_type": "code",
   "execution_count": 6,
   "metadata": {},
   "outputs": [],
   "source": [
    "# Membaca file suara tinggi\n",
    "suara_tinggi = []\n",
    "labels_tinggi = []\n",
    "for filename in os.listdir(path_suara_tinggi):\n",
    "    if filename.endswith(\".wav\"):\n",
    "        mfcc = extract_mfcc(os.path.join(path_suara_tinggi, filename))\n",
    "        suara_tinggi.extend(mfcc)\n",
    "        labels_tinggi.extend([\"tinggi\"] * len(mfcc))\n",
    "\n",
    "# Membaca file suara rendah\n",
    "suara_rendah = []\n",
    "labels_rendah = []\n",
    "for filename in os.listdir(path_suara_rendah):\n",
    "    if filename.endswith(\".wav\"):\n",
    "        mfcc = extract_mfcc(os.path.join(path_suara_rendah, filename))\n",
    "        suara_rendah.extend(mfcc)\n",
    "        labels_rendah.extend([\"rendah\"] * len(mfcc))"
   ]
  },
  {
   "cell_type": "code",
   "execution_count": 7,
   "metadata": {},
   "outputs": [
    {
     "data": {
      "text/html": [
       "<style>#sk-container-id-1 {color: black;background-color: white;}#sk-container-id-1 pre{padding: 0;}#sk-container-id-1 div.sk-toggleable {background-color: white;}#sk-container-id-1 label.sk-toggleable__label {cursor: pointer;display: block;width: 100%;margin-bottom: 0;padding: 0.3em;box-sizing: border-box;text-align: center;}#sk-container-id-1 label.sk-toggleable__label-arrow:before {content: \"▸\";float: left;margin-right: 0.25em;color: #696969;}#sk-container-id-1 label.sk-toggleable__label-arrow:hover:before {color: black;}#sk-container-id-1 div.sk-estimator:hover label.sk-toggleable__label-arrow:before {color: black;}#sk-container-id-1 div.sk-toggleable__content {max-height: 0;max-width: 0;overflow: hidden;text-align: left;background-color: #f0f8ff;}#sk-container-id-1 div.sk-toggleable__content pre {margin: 0.2em;color: black;border-radius: 0.25em;background-color: #f0f8ff;}#sk-container-id-1 input.sk-toggleable__control:checked~div.sk-toggleable__content {max-height: 200px;max-width: 100%;overflow: auto;}#sk-container-id-1 input.sk-toggleable__control:checked~label.sk-toggleable__label-arrow:before {content: \"▾\";}#sk-container-id-1 div.sk-estimator input.sk-toggleable__control:checked~label.sk-toggleable__label {background-color: #d4ebff;}#sk-container-id-1 div.sk-label input.sk-toggleable__control:checked~label.sk-toggleable__label {background-color: #d4ebff;}#sk-container-id-1 input.sk-hidden--visually {border: 0;clip: rect(1px 1px 1px 1px);clip: rect(1px, 1px, 1px, 1px);height: 1px;margin: -1px;overflow: hidden;padding: 0;position: absolute;width: 1px;}#sk-container-id-1 div.sk-estimator {font-family: monospace;background-color: #f0f8ff;border: 1px dotted black;border-radius: 0.25em;box-sizing: border-box;margin-bottom: 0.5em;}#sk-container-id-1 div.sk-estimator:hover {background-color: #d4ebff;}#sk-container-id-1 div.sk-parallel-item::after {content: \"\";width: 100%;border-bottom: 1px solid gray;flex-grow: 1;}#sk-container-id-1 div.sk-label:hover label.sk-toggleable__label {background-color: #d4ebff;}#sk-container-id-1 div.sk-serial::before {content: \"\";position: absolute;border-left: 1px solid gray;box-sizing: border-box;top: 0;bottom: 0;left: 50%;z-index: 0;}#sk-container-id-1 div.sk-serial {display: flex;flex-direction: column;align-items: center;background-color: white;padding-right: 0.2em;padding-left: 0.2em;position: relative;}#sk-container-id-1 div.sk-item {position: relative;z-index: 1;}#sk-container-id-1 div.sk-parallel {display: flex;align-items: stretch;justify-content: center;background-color: white;position: relative;}#sk-container-id-1 div.sk-item::before, #sk-container-id-1 div.sk-parallel-item::before {content: \"\";position: absolute;border-left: 1px solid gray;box-sizing: border-box;top: 0;bottom: 0;left: 50%;z-index: -1;}#sk-container-id-1 div.sk-parallel-item {display: flex;flex-direction: column;z-index: 1;position: relative;background-color: white;}#sk-container-id-1 div.sk-parallel-item:first-child::after {align-self: flex-end;width: 50%;}#sk-container-id-1 div.sk-parallel-item:last-child::after {align-self: flex-start;width: 50%;}#sk-container-id-1 div.sk-parallel-item:only-child::after {width: 0;}#sk-container-id-1 div.sk-dashed-wrapped {border: 1px dashed gray;margin: 0 0.4em 0.5em 0.4em;box-sizing: border-box;padding-bottom: 0.4em;background-color: white;}#sk-container-id-1 div.sk-label label {font-family: monospace;font-weight: bold;display: inline-block;line-height: 1.2em;}#sk-container-id-1 div.sk-label-container {text-align: center;}#sk-container-id-1 div.sk-container {/* jupyter's `normalize.less` sets `[hidden] { display: none; }` but bootstrap.min.css set `[hidden] { display: none !important; }` so we also need the `!important` here to be able to override the default hidden behavior on the sphinx rendered scikit-learn.org. See: https://github.com/scikit-learn/scikit-learn/issues/21755 */display: inline-block !important;position: relative;}#sk-container-id-1 div.sk-text-repr-fallback {display: none;}</style><div id=\"sk-container-id-1\" class=\"sk-top-container\"><div class=\"sk-text-repr-fallback\"><pre>RandomForestClassifier(max_depth=5, n_estimators=15)</pre><b>In a Jupyter environment, please rerun this cell to show the HTML representation or trust the notebook. <br />On GitHub, the HTML representation is unable to render, please try loading this page with nbviewer.org.</b></div><div class=\"sk-container\" hidden><div class=\"sk-item\"><div class=\"sk-estimator sk-toggleable\"><input class=\"sk-toggleable__control sk-hidden--visually\" id=\"sk-estimator-id-1\" type=\"checkbox\" checked><label for=\"sk-estimator-id-1\" class=\"sk-toggleable__label sk-toggleable__label-arrow\">RandomForestClassifier</label><div class=\"sk-toggleable__content\"><pre>RandomForestClassifier(max_depth=5, n_estimators=15)</pre></div></div></div></div></div>"
      ],
      "text/plain": [
       "RandomForestClassifier(max_depth=5, n_estimators=15)"
      ]
     },
     "execution_count": 7,
     "metadata": {},
     "output_type": "execute_result"
    }
   ],
   "source": [
    "# Menggabungkan data suara tinggi dan suara rendah\n",
    "X = np.array(suara_tinggi + suara_rendah)\n",
    "y = np.array(labels_tinggi + labels_rendah)\n",
    "\n",
    "# Membagi data menjadi subset latih dan uji\n",
    "X_train, X_test, y_train, y_test = train_test_split(X, y, test_size=0.3, random_state=32)\n",
    "\n",
    "# Membuat objek model Random Forest\n",
    "# Membuat objek model Random Forest dengan perubahan parameter\n",
    "model = RandomForestClassifier(n_estimators=15, max_depth=5)\n",
    "\n",
    "# Melatih model menggunakan data latih\n",
    "model.fit(X_train, y_train)"
   ]
  },
  {
   "cell_type": "code",
   "execution_count": 8,
   "metadata": {},
   "outputs": [
    {
     "name": "stdout",
     "output_type": "stream",
     "text": [
      "Akurasi Model : 1.0\n"
     ]
    }
   ],
   "source": [
    "# Menggunakan model untuk melakukan prediksi pada data uji\n",
    "y_pred = model.predict(X_test)\n",
    "\n",
    "# Menghitung metrik evaluasi\n",
    "accuracy = accuracy_score(y_test, y_pred)\n",
    "\n",
    "# Menampilkan metrik evaluasi\n",
    "print(\"Akurasi Model :\", accuracy)"
   ]
  },
  {
   "cell_type": "code",
   "execution_count": 9,
   "metadata": {},
   "outputs": [
    {
     "name": "stdout",
     "output_type": "stream",
     "text": [
      "Accuracy: 1.00000\n",
      "Precision: 1.00000\n",
      "Recall: 1.00000\n",
      "F1 Score: 1.00000\n"
     ]
    }
   ],
   "source": [
    "import matplotlib.pyplot as plt\n",
    "import numpy as np\n",
    "\n",
    "# Melakukan prediksi pada data uji\n",
    "y_pred = model.predict(X_test)\n",
    "\n",
    "# Menghitung metrik evaluasi\n",
    "accuracy = accuracy_score(y_test, y_pred)\n",
    "precision = precision_score(y_test, y_pred, average='weighted')\n",
    "recall = recall_score(y_test, y_pred, average='weighted')\n",
    "f1 = f1_score(y_test, y_pred, average='weighted')\n",
    "\n",
    "# Menampilkan metrik evaluasi\n",
    "print(\"Accuracy: {:.5f}\".format(accuracy))\n",
    "print(\"Precision: {:.5f}\".format(precision))\n",
    "print(\"Recall: {:.5f}\".format(recall))\n",
    "print(\"F1 Score: {:.5f}\".format(f1))"
   ]
  },
  {
   "cell_type": "code",
   "execution_count": 16,
   "metadata": {},
   "outputs": [
    {
     "ename": "ValueError",
     "evalue": "Expected 2D array, got 1D array instead:\narray=[-4.12784637e+02 -3.64883057e+02 -3.43068146e+02 -3.45242157e+02\n -3.39795624e+02 -3.34793640e+02 -3.39862823e+02 -3.39859528e+02\n -3.41313751e+02 -3.42484009e+02 -3.47153290e+02 -3.46609741e+02\n -3.52865753e+02 -3.55844238e+02 -3.55410065e+02 -3.57115906e+02\n -3.71864014e+02 -3.86059357e+02 -3.70018982e+02 -3.68538361e+02\n -3.68498840e+02 -3.57282928e+02 -3.52652069e+02 -3.57909821e+02\n -3.58879913e+02 -3.60382751e+02 -3.53821014e+02 -3.51363953e+02\n -3.48545990e+02 -3.55722992e+02 -3.47961151e+02 -3.41067566e+02\n -3.43084320e+02 -3.46600281e+02 -3.52127808e+02 -3.56472443e+02\n -3.60700104e+02 -3.49768188e+02 -2.63238617e+02  1.63218979e+02\n  1.75032257e+02  1.59085449e+02  1.54224976e+02  1.58239014e+02\n  1.60687531e+02  1.59704346e+02  1.70751572e+02  1.68835571e+02\n  1.65238007e+02  1.68849792e+02  1.69831879e+02  1.67535828e+02\n  1.66584442e+02  1.67922989e+02  1.73682892e+02  1.78796967e+02\n  1.70239990e+02  1.75512787e+02  1.74527466e+02  1.78337646e+02\n  1.79101837e+02  1.81671875e+02  1.78617966e+02  1.76035965e+02\n  1.82137115e+02  1.80901825e+02  1.78544632e+02  1.82526810e+02\n  1.77791412e+02  1.81205353e+02  1.81120575e+02  1.78088776e+02\n  1.74338470e+02  1.75939865e+02  1.73204315e+02  1.75389923e+02\n  1.80646469e+02  1.34295105e+02  1.40812225e+01 -5.27939320e+00\n -1.41505003e+01 -1.59572792e+01 -1.72320843e+01 -1.56405373e+01\n -1.15906887e+01 -1.09499979e+01 -2.08331528e+01 -2.55152607e+01\n -1.95543251e+01 -1.20346050e+01 -1.20745487e+01 -1.00143185e+01\n -1.26384258e+01 -7.34501791e+00  8.18340421e-01 -3.17390490e+00\n -4.24665213e+00 -2.38310814e+00 -4.27133512e+00 -7.99539757e+00\n -1.15406466e+01 -1.49536266e+01 -2.31039810e+01 -1.69277191e+01\n -1.62759209e+01 -1.82688103e+01 -1.45906715e+01 -1.07121620e+01\n -8.00796509e+00 -1.21605539e+01 -1.43646946e+01 -1.20266409e+01\n -6.07616949e+00 -7.44921684e+00 -9.17307663e+00 -3.62566710e+00\n  4.33424997e+00  2.88808632e+01  2.19037285e+01  1.54910679e+01\n  2.92188787e+00 -7.26116753e+00 -1.05584602e+01 -1.20955505e+01\n -1.70799294e+01 -2.15212078e+01 -2.05521393e+01 -2.01976833e+01\n -1.63279743e+01 -1.96274300e+01 -1.79138412e+01 -1.92032166e+01\n -1.94897652e+01 -2.10573997e+01 -2.19479504e+01 -2.75112801e+01\n -3.33671913e+01 -3.48597107e+01 -3.22929001e+01 -3.46903305e+01\n -3.33341522e+01 -3.31404877e+01 -3.12903481e+01 -2.78924370e+01\n -2.92405243e+01 -2.76967354e+01 -3.10951691e+01 -2.90636482e+01\n -3.10807648e+01 -2.88736343e+01 -2.42234440e+01 -3.02493496e+01\n -2.90440559e+01 -3.27237206e+01 -2.85571213e+01 -1.84429359e+01\n  1.29082060e+01  8.23746109e+00 -6.76611710e+00 -2.63865128e+01\n -3.60592537e+01 -4.37141457e+01 -5.42064209e+01 -5.49501953e+01\n -5.27428513e+01 -4.91553268e+01 -4.45135193e+01 -4.75770340e+01\n -5.38782272e+01 -5.26099396e+01 -4.50929871e+01 -4.52924767e+01\n -4.38795242e+01 -4.64892883e+01 -4.99096870e+01 -5.12007484e+01\n -4.92916412e+01 -4.86894684e+01 -4.90794296e+01 -4.68426819e+01\n -4.28079834e+01 -4.29835587e+01 -4.02502518e+01 -4.15773544e+01\n -4.32614365e+01 -4.42127380e+01 -4.80810623e+01 -5.19137115e+01\n -4.60513153e+01 -4.38367958e+01 -5.00208702e+01 -5.07802696e+01\n -4.90790100e+01 -4.14686203e+01 -2.44398861e+01 -3.29647541e+00\n -6.74544907e+00  2.91022778e+00  7.45748186e+00  9.79533768e+00\n  4.04595327e+00  1.18435740e-01  3.27348137e+00  5.95435083e-01\n -1.95374143e+00 -1.61425352e-01 -2.39907551e+00 -6.75880814e+00\n -2.51343632e+00  1.97828507e+00  6.30914211e+00  6.57582855e+00\n  6.53228164e-01  9.11550808e+00  1.41356945e+01  1.12476501e+01\n  1.45063992e+01  9.67102814e+00  2.60420132e+00  4.88529921e+00\n  3.05928159e+00  2.63979006e+00  6.44824982e+00  1.06444588e+01\n  1.35526924e+01  9.85233212e+00  6.94050312e+00  8.46813774e+00\n  1.22156315e+01  1.01885014e+01  6.82385445e+00  7.14737701e+00\n  6.40998936e+00 -9.68888092e+00 -2.21994095e+01 -3.88288040e+01\n -4.71196251e+01 -3.37632294e+01 -2.75785561e+01 -2.48940048e+01\n -1.84950867e+01 -1.26812744e+01 -6.39724922e+00 -7.85139894e+00\n -4.01153994e+00 -3.33181739e+00 -3.75006890e+00 -4.70930433e+00\n -5.47184753e+00 -2.81519032e+00  3.20270467e+00  1.90276432e+00\n -2.68248129e+00 -5.80474567e+00 -2.70781040e+00 -3.31805682e+00\n -7.44369984e+00 -8.62886333e+00 -5.68255711e+00 -4.25359058e+00\n -7.61719179e+00 -2.67640185e+00  1.28051138e+00 -6.34655762e+00\n -6.59517097e+00 -5.66765451e+00 -7.99905825e+00 -7.26727819e+00\n -9.94320774e+00 -1.18585072e+01 -1.19020271e+01 -1.14185886e+01\n -5.82108736e+00 -1.55739708e+01 -2.83394146e+01 -2.76525841e+01\n -1.67166710e+01 -1.87152443e+01 -1.13716717e+01  1.13246238e+00\n -1.00690615e+00  5.04526043e+00  9.58661842e+00  1.14977036e+01\n  1.62132416e+01  1.65694447e+01  1.19119511e+01  9.44551468e+00\n  4.60186481e+00 -3.52499104e+00 -1.20265551e+01 -1.18478260e+01\n -8.51540947e+00 -6.79220676e+00 -4.94282722e+00 -3.23193026e+00\n  1.28806591e-01 -7.38056517e+00 -9.70523834e+00 -6.45199871e+00\n -2.54353595e+00 -3.34775949e+00 -4.73730278e+00 -3.39381123e+00\n  2.18552411e-01 -1.31535220e+00 -5.33022451e+00 -3.59289646e+00\n -3.16335154e+00 -5.13504219e+00 -4.01265335e+00 -6.08303118e+00\n -8.72572803e+00 -2.40685921e+01 -3.43931122e+01 -3.63893967e+01\n -4.35105553e+01 -4.50770760e+01 -4.15645943e+01 -3.94815903e+01\n -3.69129257e+01 -3.45094032e+01 -3.78002472e+01 -3.65112686e+01\n -3.14307098e+01 -2.88287544e+01 -3.42405701e+01 -3.41424980e+01\n -3.31409721e+01 -3.29533310e+01 -3.12830696e+01 -3.34954300e+01\n -3.79473076e+01 -3.62822495e+01 -3.30100937e+01 -3.13574982e+01\n -3.26534195e+01 -2.82355118e+01 -3.19251518e+01 -3.36230316e+01\n -3.59128647e+01 -3.32394104e+01 -3.22662888e+01 -3.14079762e+01\n -3.34451027e+01 -3.69376221e+01 -3.42031174e+01 -3.31124306e+01\n -3.20982552e+01 -2.87930984e+01 -1.26726551e+01 -7.21140623e+00\n -5.86875582e+00 -7.71558762e+00 -7.08043194e+00 -8.36227798e+00\n -1.16867037e+01 -1.77708378e+01 -2.00641098e+01 -1.81507759e+01\n -1.93757420e+01 -1.62433720e+01 -1.31770401e+01 -1.12689590e+01\n -8.20969009e+00 -1.27804108e+01 -1.21980553e+01 -9.64691353e+00\n -9.21293831e+00 -1.00844412e+01 -1.05215664e+01 -1.24544716e+01\n -1.47911158e+01 -1.35070877e+01 -1.11089268e+01 -8.87610626e+00\n -1.00493374e+01 -1.06090069e+01 -9.52723122e+00 -1.48125381e+01\n -1.23384228e+01 -7.17616749e+00 -5.39700556e+00 -2.70097828e+00\n -6.14627934e+00 -7.67874098e+00 -5.09272003e+00 -6.08069611e+00\n -1.21573725e+01 -9.69939613e+00 -1.24630241e+01 -2.13805008e+01\n -1.30613003e+01  1.74704361e+00  5.34580326e+00  4.74679756e+00\n  7.77112436e+00  1.06068850e+01  1.48169155e+01  1.07157726e+01\n  3.89422202e+00  4.85272503e+00  3.69080210e+00  4.28769588e+00\n  2.68130469e+00  3.24730301e+00 -6.03370571e+00 -1.06426973e+01\n -3.65142441e+00 -1.70304453e+00 -4.61457777e+00 -1.73857343e+00\n  1.80411625e+00  2.91388726e+00  1.88198662e+00 -5.59955645e+00\n -8.14082146e+00 -6.17097282e+00 -7.03545427e+00 -7.20432711e+00\n -7.13329315e+00 -9.57639694e+00 -4.03825903e+00 -4.73867226e+00\n -1.16293468e+01 -5.08449078e+00 -2.76079869e+00 -8.77326870e+00\n -6.58848763e+00 -1.41869240e+01 -2.65052109e+01 -3.09912453e+01\n -2.39395599e+01 -1.81012859e+01 -2.26579819e+01 -2.00493183e+01\n -1.42580872e+01 -9.08084583e+00 -1.37292538e+01 -2.06891365e+01\n -2.24175358e+01 -2.51713409e+01 -2.77242451e+01 -2.71976089e+01\n -2.56282120e+01 -2.67792740e+01 -2.70392189e+01 -2.03031425e+01\n -1.91844006e+01 -2.56923637e+01 -2.37223167e+01 -2.15186882e+01\n -2.46648293e+01 -2.18202362e+01 -2.28423901e+01 -2.66668282e+01\n -2.54570675e+01 -2.34265995e+01 -2.41962605e+01 -2.47803516e+01\n -2.64449539e+01 -2.52282486e+01 -2.71757622e+01 -2.76844292e+01\n -2.77622738e+01 -2.54862595e+01 -2.22152863e+01 -5.99113750e+00\n -9.39284897e+00 -1.05084381e+01 -9.16584015e+00 -8.14331055e+00\n -4.78062010e+00 -4.79674578e+00 -3.91684866e+00 -2.48044801e+00\n -2.11025548e+00 -7.15754747e-01  3.86888957e+00  7.08510113e+00\n  5.82125950e+00  1.98158050e+00  6.23196793e+00  1.17333088e+01\n  7.54597092e+00  8.21501434e-01  6.86890936e+00  9.23278236e+00\n  7.55622292e+00  7.97111988e+00  3.88275027e+00  7.68210351e-01\n  1.45389497e+00 -4.31773806e+00 -4.45232868e+00  7.08354712e-01\n  5.09869766e+00  7.09678221e+00  8.06081772e+00  1.14524221e+01\n  1.31098804e+01  5.48350096e+00  6.80357361e+00  9.24952888e+00\n  1.01117582e+01  3.58964777e+00 -7.15499973e+00 -4.75379944e+00\n -1.01409435e+01 -1.85078545e+01 -2.87737274e+01 -3.15036240e+01\n -2.84982109e+01 -2.70877171e+01 -2.35960751e+01 -1.88224316e+01\n -1.75023308e+01 -1.96020279e+01 -1.83286514e+01 -1.55383110e+01\n -1.53726454e+01 -1.51710739e+01 -1.28459263e+01 -1.57681866e+01\n -2.12761402e+01 -1.86760941e+01 -1.85362568e+01 -2.09418945e+01\n -2.32478828e+01 -1.98864899e+01 -1.94830246e+01 -2.47986450e+01\n -2.56896896e+01 -2.63545551e+01 -2.47768536e+01 -2.18843727e+01\n -2.37597389e+01 -2.33744507e+01 -2.03490505e+01 -1.87702179e+01\n -2.56823273e+01 -2.93660431e+01 -2.63152027e+01 -2.51989136e+01\n -1.97111015e+01 -1.51231594e+01 -1.08002138e+01 -1.43348134e+00\n  2.07603955e+00 -4.63126993e+00 -2.46399522e+00 -1.51342535e+00\n -5.97720242e+00 -7.95580053e+00 -9.40732384e+00 -5.30679703e+00\n -4.02597427e+00 -4.00325108e+00 -5.91279984e+00 -6.35568762e+00\n -6.21260166e+00 -1.03678761e+01 -1.16371269e+01 -1.17404299e+01\n -1.00144911e+01 -8.92850685e+00 -1.41605501e+01 -1.69222374e+01\n -8.90172958e+00 -8.44735336e+00 -1.45763998e+01 -1.50533857e+01\n -1.45573788e+01 -1.35280800e+01 -1.57282000e+01 -1.67708855e+01\n -1.33644352e+01 -1.04923115e+01 -7.59830666e+00 -8.26104069e+00\n -8.45759201e+00 -8.02705860e+00 -9.58974743e+00 -1.32648983e+01\n -1.92939568e+01 -1.89492016e+01 -2.77006798e+01 -1.72469044e+01\n -8.86376953e+00 -2.09870577e+00 -2.35208869e+00 -7.18176079e+00\n -1.14747143e+01 -1.18852787e+01 -6.89527130e+00 -6.26273632e+00\n -5.69858360e+00 -7.64117146e+00 -1.32462311e+01 -1.02408924e+01\n -4.67274141e+00 -3.91470790e+00 -1.42840469e+00 -2.48766255e+00\n -7.26559544e+00 -9.30090523e+00 -7.31649733e+00 -4.01891804e+00\n -6.09029675e+00 -1.11875896e+01 -7.69074631e+00 -5.88096809e+00\n -1.32597280e+00 -7.52000999e+00 -7.98387337e+00 -4.70166636e+00\n -4.40531731e+00 -8.96072030e-01 -2.62739038e+00 -4.75635672e+00\n -3.50639701e+00 -5.19651794e+00 -1.07193985e+01 -1.84682274e+01\n -4.72460508e+00  3.79625273e+00  2.76980460e-01 -7.69190216e+00\n -7.64831638e+00 -1.43420677e+01 -1.43463078e+01 -1.34580965e+01\n -1.05619602e+01 -1.09893742e+01 -1.29859505e+01 -1.31942387e+01\n -1.45089321e+01 -1.38223457e+01 -1.21213284e+01 -1.54745998e+01\n -1.73213615e+01 -1.51099205e+01 -1.75969734e+01 -1.83285770e+01\n -1.81991196e+01 -2.08166828e+01 -1.89746933e+01 -1.57127075e+01\n -2.04371719e+01 -1.77866001e+01 -1.80561638e+01 -1.69571819e+01\n -1.67252197e+01 -1.43282623e+01 -1.23275318e+01 -1.22224922e+01\n -1.26916656e+01 -1.90426903e+01 -1.99236336e+01 -1.66839790e+01\n -1.87761002e+01 -1.97144432e+01 -1.47115192e+01  3.03375769e+00\n  6.77291393e+00 -1.94718003e+00 -1.30028620e+01 -1.62944336e+01\n -1.70479412e+01 -1.00161343e+01 -5.36497688e+00 -7.65923929e+00\n  3.83527696e-01  4.13481569e+00  2.09900331e+00  1.90389657e+00\n  3.13279104e+00  2.51452446e+00  5.28419614e-01 -3.80172515e+00\n -7.11145639e+00 -3.89521122e+00 -1.87634933e+00 -4.42865086e+00\n -8.39266968e+00 -8.39807606e+00 -3.40779328e+00 -2.81163549e+00\n -5.93219280e+00 -1.11000786e+01 -1.34072475e+01 -1.42351475e+01\n -1.29177399e+01 -1.02287540e+01 -1.09786282e+01 -9.75668335e+00\n -9.09105968e+00 -1.04746990e+01 -7.24580002e+00 -3.62215614e+00\n -5.77505779e+00 -5.85521126e+00 -4.06966019e+00 -8.00363731e+00\n -1.46065521e+01 -1.41946411e+01 -1.38319120e+01 -1.24712620e+01\n -9.79441452e+00 -8.31602097e+00 -5.59113407e+00 -3.97735834e+00\n -1.11143074e+01 -1.62752953e+01 -1.15679188e+01 -1.27565451e+01\n -1.74498920e+01 -9.08873367e+00 -6.62337923e+00 -8.68989754e+00\n -8.23377037e+00 -1.03068476e+01 -1.14005203e+01 -7.99304104e+00\n -9.10154533e+00 -1.23660183e+01 -1.10908051e+01 -9.58783245e+00\n -6.99070406e+00 -4.45361710e+00 -9.83820343e+00 -9.32155418e+00\n -4.23390484e+00 -4.63523388e+00 -7.87230301e+00 -1.02797623e+01\n -1.05503120e+01 -6.39180660e+00 -6.55683231e+00 -9.64403820e+00\n -4.37237024e+00 -6.15477419e+00 -1.78210139e+00 -5.16757488e-01\n -1.96771550e+00 -9.63210106e+00 -1.52504978e+01 -1.73135262e+01\n -1.77467194e+01 -1.56169052e+01 -1.35616226e+01 -1.23681421e+01\n -1.63473682e+01 -1.65371208e+01 -1.30609293e+01 -1.20811300e+01\n -1.29473553e+01 -1.65540600e+01 -1.86400871e+01 -1.67290382e+01\n -1.74402351e+01 -1.63264961e+01 -1.41922979e+01 -1.11915979e+01\n -1.19045162e+01 -1.36692715e+01 -1.63494625e+01 -1.71678066e+01\n -1.72948647e+01 -1.61336441e+01 -1.02522430e+01 -9.08078766e+00\n -8.55306816e+00 -1.44315605e+01 -1.85890675e+01 -1.62366066e+01\n -1.01061382e+01 -8.86216164e+00 -8.25255585e+00 -3.94339371e+00].\nReshape your data either using array.reshape(-1, 1) if your data has a single feature or array.reshape(1, -1) if it contains a single sample.",
     "output_type": "error",
     "traceback": [
      "\u001b[1;31m---------------------------------------------------------------------------\u001b[0m",
      "\u001b[1;31mValueError\u001b[0m                                Traceback (most recent call last)",
      "\u001b[1;32md:\\TUGAS KULIAH\\SEMESTER 8\\ta-nurul\\audio-RFC copy.ipynb Cell 10\u001b[0m in \u001b[0;36m2\n\u001b[0;32m     <a href='vscode-notebook-cell:/d%3A/TUGAS%20KULIAH/SEMESTER%208/ta-nurul/audio-RFC%20copy.ipynb#X12sZmlsZQ%3D%3D?line=25'>26</a>\u001b[0m \u001b[39m# Reduksi dimensi fitur MFCC menggunakan PCA\u001b[39;00m\n\u001b[0;32m     <a href='vscode-notebook-cell:/d%3A/TUGAS%20KULIAH/SEMESTER%208/ta-nurul/audio-RFC%20copy.ipynb#X12sZmlsZQ%3D%3D?line=26'>27</a>\u001b[0m pca \u001b[39m=\u001b[39m PCA(n_components\u001b[39m=\u001b[39m\u001b[39m20\u001b[39m)\n\u001b[1;32m---> <a href='vscode-notebook-cell:/d%3A/TUGAS%20KULIAH/SEMESTER%208/ta-nurul/audio-RFC%20copy.ipynb#X12sZmlsZQ%3D%3D?line=27'>28</a>\u001b[0m mfcc_contoh_suara \u001b[39m=\u001b[39m pca\u001b[39m.\u001b[39;49mfit_transform(mfcc_contoh_suara)\n\u001b[0;32m     <a href='vscode-notebook-cell:/d%3A/TUGAS%20KULIAH/SEMESTER%208/ta-nurul/audio-RFC%20copy.ipynb#X12sZmlsZQ%3D%3D?line=29'>30</a>\u001b[0m \u001b[39m# Ubah dimensi MFCC agar sesuai dengan model\u001b[39;00m\n\u001b[0;32m     <a href='vscode-notebook-cell:/d%3A/TUGAS%20KULIAH/SEMESTER%208/ta-nurul/audio-RFC%20copy.ipynb#X12sZmlsZQ%3D%3D?line=30'>31</a>\u001b[0m mfcc_contoh_suara \u001b[39m=\u001b[39m mfcc_contoh_suara\u001b[39m.\u001b[39mreshape(\u001b[39m1\u001b[39m, \u001b[39m-\u001b[39m\u001b[39m1\u001b[39m)\n",
      "File \u001b[1;32mc:\\Users\\fawza\\AppData\\Local\\Programs\\Python\\Python38\\lib\\site-packages\\sklearn\\decomposition\\_pca.py:433\u001b[0m, in \u001b[0;36mPCA.fit_transform\u001b[1;34m(self, X, y)\u001b[0m\n\u001b[0;32m    411\u001b[0m \u001b[39mdef\u001b[39;00m \u001b[39mfit_transform\u001b[39m(\u001b[39mself\u001b[39m, X, y\u001b[39m=\u001b[39m\u001b[39mNone\u001b[39;00m):\n\u001b[0;32m    412\u001b[0m     \u001b[39m\"\"\"Fit the model with X and apply the dimensionality reduction on X.\u001b[39;00m\n\u001b[0;32m    413\u001b[0m \n\u001b[0;32m    414\u001b[0m \u001b[39m    Parameters\u001b[39;00m\n\u001b[1;32m   (...)\u001b[0m\n\u001b[0;32m    431\u001b[0m \u001b[39m    C-ordered array, use 'np.ascontiguousarray'.\u001b[39;00m\n\u001b[0;32m    432\u001b[0m \u001b[39m    \"\"\"\u001b[39;00m\n\u001b[1;32m--> 433\u001b[0m     U, S, Vt \u001b[39m=\u001b[39m \u001b[39mself\u001b[39;49m\u001b[39m.\u001b[39;49m_fit(X)\n\u001b[0;32m    434\u001b[0m     U \u001b[39m=\u001b[39m U[:, : \u001b[39mself\u001b[39m\u001b[39m.\u001b[39mn_components_]\n\u001b[0;32m    436\u001b[0m     \u001b[39mif\u001b[39;00m \u001b[39mself\u001b[39m\u001b[39m.\u001b[39mwhiten:\n\u001b[0;32m    437\u001b[0m         \u001b[39m# X_new = X * V / S * sqrt(n_samples) = U * sqrt(n_samples)\u001b[39;00m\n",
      "File \u001b[1;32mc:\\Users\\fawza\\AppData\\Local\\Programs\\Python\\Python38\\lib\\site-packages\\sklearn\\decomposition\\_pca.py:456\u001b[0m, in \u001b[0;36mPCA._fit\u001b[1;34m(self, X)\u001b[0m\n\u001b[0;32m    450\u001b[0m \u001b[39mif\u001b[39;00m issparse(X):\n\u001b[0;32m    451\u001b[0m     \u001b[39mraise\u001b[39;00m \u001b[39mTypeError\u001b[39;00m(\n\u001b[0;32m    452\u001b[0m         \u001b[39m\"\u001b[39m\u001b[39mPCA does not support sparse input. See \u001b[39m\u001b[39m\"\u001b[39m\n\u001b[0;32m    453\u001b[0m         \u001b[39m\"\u001b[39m\u001b[39mTruncatedSVD for a possible alternative.\u001b[39m\u001b[39m\"\u001b[39m\n\u001b[0;32m    454\u001b[0m     )\n\u001b[1;32m--> 456\u001b[0m X \u001b[39m=\u001b[39m \u001b[39mself\u001b[39;49m\u001b[39m.\u001b[39;49m_validate_data(\n\u001b[0;32m    457\u001b[0m     X, dtype\u001b[39m=\u001b[39;49m[np\u001b[39m.\u001b[39;49mfloat64, np\u001b[39m.\u001b[39;49mfloat32], ensure_2d\u001b[39m=\u001b[39;49m\u001b[39mTrue\u001b[39;49;00m, copy\u001b[39m=\u001b[39;49m\u001b[39mself\u001b[39;49m\u001b[39m.\u001b[39;49mcopy\n\u001b[0;32m    458\u001b[0m )\n\u001b[0;32m    460\u001b[0m \u001b[39m# Handle n_components==None\u001b[39;00m\n\u001b[0;32m    461\u001b[0m \u001b[39mif\u001b[39;00m \u001b[39mself\u001b[39m\u001b[39m.\u001b[39mn_components \u001b[39mis\u001b[39;00m \u001b[39mNone\u001b[39;00m:\n",
      "File \u001b[1;32mc:\\Users\\fawza\\AppData\\Local\\Programs\\Python\\Python38\\lib\\site-packages\\sklearn\\base.py:577\u001b[0m, in \u001b[0;36mBaseEstimator._validate_data\u001b[1;34m(self, X, y, reset, validate_separately, **check_params)\u001b[0m\n\u001b[0;32m    575\u001b[0m     \u001b[39mraise\u001b[39;00m \u001b[39mValueError\u001b[39;00m(\u001b[39m\"\u001b[39m\u001b[39mValidation should be done on X, y or both.\u001b[39m\u001b[39m\"\u001b[39m)\n\u001b[0;32m    576\u001b[0m \u001b[39melif\u001b[39;00m \u001b[39mnot\u001b[39;00m no_val_X \u001b[39mand\u001b[39;00m no_val_y:\n\u001b[1;32m--> 577\u001b[0m     X \u001b[39m=\u001b[39m check_array(X, input_name\u001b[39m=\u001b[39;49m\u001b[39m\"\u001b[39;49m\u001b[39mX\u001b[39;49m\u001b[39m\"\u001b[39;49m, \u001b[39m*\u001b[39;49m\u001b[39m*\u001b[39;49mcheck_params)\n\u001b[0;32m    578\u001b[0m     out \u001b[39m=\u001b[39m X\n\u001b[0;32m    579\u001b[0m \u001b[39melif\u001b[39;00m no_val_X \u001b[39mand\u001b[39;00m \u001b[39mnot\u001b[39;00m no_val_y:\n",
      "File \u001b[1;32mc:\\Users\\fawza\\AppData\\Local\\Programs\\Python\\Python38\\lib\\site-packages\\sklearn\\utils\\validation.py:879\u001b[0m, in \u001b[0;36mcheck_array\u001b[1;34m(array, accept_sparse, accept_large_sparse, dtype, order, copy, force_all_finite, ensure_2d, allow_nd, ensure_min_samples, ensure_min_features, estimator, input_name)\u001b[0m\n\u001b[0;32m    877\u001b[0m     \u001b[39m# If input is 1D raise error\u001b[39;00m\n\u001b[0;32m    878\u001b[0m     \u001b[39mif\u001b[39;00m array\u001b[39m.\u001b[39mndim \u001b[39m==\u001b[39m \u001b[39m1\u001b[39m:\n\u001b[1;32m--> 879\u001b[0m         \u001b[39mraise\u001b[39;00m \u001b[39mValueError\u001b[39;00m(\n\u001b[0;32m    880\u001b[0m             \u001b[39m\"\u001b[39m\u001b[39mExpected 2D array, got 1D array instead:\u001b[39m\u001b[39m\\n\u001b[39;00m\u001b[39marray=\u001b[39m\u001b[39m{}\u001b[39;00m\u001b[39m.\u001b[39m\u001b[39m\\n\u001b[39;00m\u001b[39m\"\u001b[39m\n\u001b[0;32m    881\u001b[0m             \u001b[39m\"\u001b[39m\u001b[39mReshape your data either using array.reshape(-1, 1) if \u001b[39m\u001b[39m\"\u001b[39m\n\u001b[0;32m    882\u001b[0m             \u001b[39m\"\u001b[39m\u001b[39myour data has a single feature or array.reshape(1, -1) \u001b[39m\u001b[39m\"\u001b[39m\n\u001b[0;32m    883\u001b[0m             \u001b[39m\"\u001b[39m\u001b[39mif it contains a single sample.\u001b[39m\u001b[39m\"\u001b[39m\u001b[39m.\u001b[39mformat(array)\n\u001b[0;32m    884\u001b[0m         )\n\u001b[0;32m    886\u001b[0m \u001b[39mif\u001b[39;00m dtype_numeric \u001b[39mand\u001b[39;00m array\u001b[39m.\u001b[39mdtype\u001b[39m.\u001b[39mkind \u001b[39min\u001b[39;00m \u001b[39m\"\u001b[39m\u001b[39mUSV\u001b[39m\u001b[39m\"\u001b[39m:\n\u001b[0;32m    887\u001b[0m     \u001b[39mraise\u001b[39;00m \u001b[39mValueError\u001b[39;00m(\n\u001b[0;32m    888\u001b[0m         \u001b[39m\"\u001b[39m\u001b[39mdtype=\u001b[39m\u001b[39m'\u001b[39m\u001b[39mnumeric\u001b[39m\u001b[39m'\u001b[39m\u001b[39m is not compatible with arrays of bytes/strings.\u001b[39m\u001b[39m\"\u001b[39m\n\u001b[0;32m    889\u001b[0m         \u001b[39m\"\u001b[39m\u001b[39mConvert your data to numeric values explicitly instead.\u001b[39m\u001b[39m\"\u001b[39m\n\u001b[0;32m    890\u001b[0m     )\n",
      "\u001b[1;31mValueError\u001b[0m: Expected 2D array, got 1D array instead:\narray=[-4.12784637e+02 -3.64883057e+02 -3.43068146e+02 -3.45242157e+02\n -3.39795624e+02 -3.34793640e+02 -3.39862823e+02 -3.39859528e+02\n -3.41313751e+02 -3.42484009e+02 -3.47153290e+02 -3.46609741e+02\n -3.52865753e+02 -3.55844238e+02 -3.55410065e+02 -3.57115906e+02\n -3.71864014e+02 -3.86059357e+02 -3.70018982e+02 -3.68538361e+02\n -3.68498840e+02 -3.57282928e+02 -3.52652069e+02 -3.57909821e+02\n -3.58879913e+02 -3.60382751e+02 -3.53821014e+02 -3.51363953e+02\n -3.48545990e+02 -3.55722992e+02 -3.47961151e+02 -3.41067566e+02\n -3.43084320e+02 -3.46600281e+02 -3.52127808e+02 -3.56472443e+02\n -3.60700104e+02 -3.49768188e+02 -2.63238617e+02  1.63218979e+02\n  1.75032257e+02  1.59085449e+02  1.54224976e+02  1.58239014e+02\n  1.60687531e+02  1.59704346e+02  1.70751572e+02  1.68835571e+02\n  1.65238007e+02  1.68849792e+02  1.69831879e+02  1.67535828e+02\n  1.66584442e+02  1.67922989e+02  1.73682892e+02  1.78796967e+02\n  1.70239990e+02  1.75512787e+02  1.74527466e+02  1.78337646e+02\n  1.79101837e+02  1.81671875e+02  1.78617966e+02  1.76035965e+02\n  1.82137115e+02  1.80901825e+02  1.78544632e+02  1.82526810e+02\n  1.77791412e+02  1.81205353e+02  1.81120575e+02  1.78088776e+02\n  1.74338470e+02  1.75939865e+02  1.73204315e+02  1.75389923e+02\n  1.80646469e+02  1.34295105e+02  1.40812225e+01 -5.27939320e+00\n -1.41505003e+01 -1.59572792e+01 -1.72320843e+01 -1.56405373e+01\n -1.15906887e+01 -1.09499979e+01 -2.08331528e+01 -2.55152607e+01\n -1.95543251e+01 -1.20346050e+01 -1.20745487e+01 -1.00143185e+01\n -1.26384258e+01 -7.34501791e+00  8.18340421e-01 -3.17390490e+00\n -4.24665213e+00 -2.38310814e+00 -4.27133512e+00 -7.99539757e+00\n -1.15406466e+01 -1.49536266e+01 -2.31039810e+01 -1.69277191e+01\n -1.62759209e+01 -1.82688103e+01 -1.45906715e+01 -1.07121620e+01\n -8.00796509e+00 -1.21605539e+01 -1.43646946e+01 -1.20266409e+01\n -6.07616949e+00 -7.44921684e+00 -9.17307663e+00 -3.62566710e+00\n  4.33424997e+00  2.88808632e+01  2.19037285e+01  1.54910679e+01\n  2.92188787e+00 -7.26116753e+00 -1.05584602e+01 -1.20955505e+01\n -1.70799294e+01 -2.15212078e+01 -2.05521393e+01 -2.01976833e+01\n -1.63279743e+01 -1.96274300e+01 -1.79138412e+01 -1.92032166e+01\n -1.94897652e+01 -2.10573997e+01 -2.19479504e+01 -2.75112801e+01\n -3.33671913e+01 -3.48597107e+01 -3.22929001e+01 -3.46903305e+01\n -3.33341522e+01 -3.31404877e+01 -3.12903481e+01 -2.78924370e+01\n -2.92405243e+01 -2.76967354e+01 -3.10951691e+01 -2.90636482e+01\n -3.10807648e+01 -2.88736343e+01 -2.42234440e+01 -3.02493496e+01\n -2.90440559e+01 -3.27237206e+01 -2.85571213e+01 -1.84429359e+01\n  1.29082060e+01  8.23746109e+00 -6.76611710e+00 -2.63865128e+01\n -3.60592537e+01 -4.37141457e+01 -5.42064209e+01 -5.49501953e+01\n -5.27428513e+01 -4.91553268e+01 -4.45135193e+01 -4.75770340e+01\n -5.38782272e+01 -5.26099396e+01 -4.50929871e+01 -4.52924767e+01\n -4.38795242e+01 -4.64892883e+01 -4.99096870e+01 -5.12007484e+01\n -4.92916412e+01 -4.86894684e+01 -4.90794296e+01 -4.68426819e+01\n -4.28079834e+01 -4.29835587e+01 -4.02502518e+01 -4.15773544e+01\n -4.32614365e+01 -4.42127380e+01 -4.80810623e+01 -5.19137115e+01\n -4.60513153e+01 -4.38367958e+01 -5.00208702e+01 -5.07802696e+01\n -4.90790100e+01 -4.14686203e+01 -2.44398861e+01 -3.29647541e+00\n -6.74544907e+00  2.91022778e+00  7.45748186e+00  9.79533768e+00\n  4.04595327e+00  1.18435740e-01  3.27348137e+00  5.95435083e-01\n -1.95374143e+00 -1.61425352e-01 -2.39907551e+00 -6.75880814e+00\n -2.51343632e+00  1.97828507e+00  6.30914211e+00  6.57582855e+00\n  6.53228164e-01  9.11550808e+00  1.41356945e+01  1.12476501e+01\n  1.45063992e+01  9.67102814e+00  2.60420132e+00  4.88529921e+00\n  3.05928159e+00  2.63979006e+00  6.44824982e+00  1.06444588e+01\n  1.35526924e+01  9.85233212e+00  6.94050312e+00  8.46813774e+00\n  1.22156315e+01  1.01885014e+01  6.82385445e+00  7.14737701e+00\n  6.40998936e+00 -9.68888092e+00 -2.21994095e+01 -3.88288040e+01\n -4.71196251e+01 -3.37632294e+01 -2.75785561e+01 -2.48940048e+01\n -1.84950867e+01 -1.26812744e+01 -6.39724922e+00 -7.85139894e+00\n -4.01153994e+00 -3.33181739e+00 -3.75006890e+00 -4.70930433e+00\n -5.47184753e+00 -2.81519032e+00  3.20270467e+00  1.90276432e+00\n -2.68248129e+00 -5.80474567e+00 -2.70781040e+00 -3.31805682e+00\n -7.44369984e+00 -8.62886333e+00 -5.68255711e+00 -4.25359058e+00\n -7.61719179e+00 -2.67640185e+00  1.28051138e+00 -6.34655762e+00\n -6.59517097e+00 -5.66765451e+00 -7.99905825e+00 -7.26727819e+00\n -9.94320774e+00 -1.18585072e+01 -1.19020271e+01 -1.14185886e+01\n -5.82108736e+00 -1.55739708e+01 -2.83394146e+01 -2.76525841e+01\n -1.67166710e+01 -1.87152443e+01 -1.13716717e+01  1.13246238e+00\n -1.00690615e+00  5.04526043e+00  9.58661842e+00  1.14977036e+01\n  1.62132416e+01  1.65694447e+01  1.19119511e+01  9.44551468e+00\n  4.60186481e+00 -3.52499104e+00 -1.20265551e+01 -1.18478260e+01\n -8.51540947e+00 -6.79220676e+00 -4.94282722e+00 -3.23193026e+00\n  1.28806591e-01 -7.38056517e+00 -9.70523834e+00 -6.45199871e+00\n -2.54353595e+00 -3.34775949e+00 -4.73730278e+00 -3.39381123e+00\n  2.18552411e-01 -1.31535220e+00 -5.33022451e+00 -3.59289646e+00\n -3.16335154e+00 -5.13504219e+00 -4.01265335e+00 -6.08303118e+00\n -8.72572803e+00 -2.40685921e+01 -3.43931122e+01 -3.63893967e+01\n -4.35105553e+01 -4.50770760e+01 -4.15645943e+01 -3.94815903e+01\n -3.69129257e+01 -3.45094032e+01 -3.78002472e+01 -3.65112686e+01\n -3.14307098e+01 -2.88287544e+01 -3.42405701e+01 -3.41424980e+01\n -3.31409721e+01 -3.29533310e+01 -3.12830696e+01 -3.34954300e+01\n -3.79473076e+01 -3.62822495e+01 -3.30100937e+01 -3.13574982e+01\n -3.26534195e+01 -2.82355118e+01 -3.19251518e+01 -3.36230316e+01\n -3.59128647e+01 -3.32394104e+01 -3.22662888e+01 -3.14079762e+01\n -3.34451027e+01 -3.69376221e+01 -3.42031174e+01 -3.31124306e+01\n -3.20982552e+01 -2.87930984e+01 -1.26726551e+01 -7.21140623e+00\n -5.86875582e+00 -7.71558762e+00 -7.08043194e+00 -8.36227798e+00\n -1.16867037e+01 -1.77708378e+01 -2.00641098e+01 -1.81507759e+01\n -1.93757420e+01 -1.62433720e+01 -1.31770401e+01 -1.12689590e+01\n -8.20969009e+00 -1.27804108e+01 -1.21980553e+01 -9.64691353e+00\n -9.21293831e+00 -1.00844412e+01 -1.05215664e+01 -1.24544716e+01\n -1.47911158e+01 -1.35070877e+01 -1.11089268e+01 -8.87610626e+00\n -1.00493374e+01 -1.06090069e+01 -9.52723122e+00 -1.48125381e+01\n -1.23384228e+01 -7.17616749e+00 -5.39700556e+00 -2.70097828e+00\n -6.14627934e+00 -7.67874098e+00 -5.09272003e+00 -6.08069611e+00\n -1.21573725e+01 -9.69939613e+00 -1.24630241e+01 -2.13805008e+01\n -1.30613003e+01  1.74704361e+00  5.34580326e+00  4.74679756e+00\n  7.77112436e+00  1.06068850e+01  1.48169155e+01  1.07157726e+01\n  3.89422202e+00  4.85272503e+00  3.69080210e+00  4.28769588e+00\n  2.68130469e+00  3.24730301e+00 -6.03370571e+00 -1.06426973e+01\n -3.65142441e+00 -1.70304453e+00 -4.61457777e+00 -1.73857343e+00\n  1.80411625e+00  2.91388726e+00  1.88198662e+00 -5.59955645e+00\n -8.14082146e+00 -6.17097282e+00 -7.03545427e+00 -7.20432711e+00\n -7.13329315e+00 -9.57639694e+00 -4.03825903e+00 -4.73867226e+00\n -1.16293468e+01 -5.08449078e+00 -2.76079869e+00 -8.77326870e+00\n -6.58848763e+00 -1.41869240e+01 -2.65052109e+01 -3.09912453e+01\n -2.39395599e+01 -1.81012859e+01 -2.26579819e+01 -2.00493183e+01\n -1.42580872e+01 -9.08084583e+00 -1.37292538e+01 -2.06891365e+01\n -2.24175358e+01 -2.51713409e+01 -2.77242451e+01 -2.71976089e+01\n -2.56282120e+01 -2.67792740e+01 -2.70392189e+01 -2.03031425e+01\n -1.91844006e+01 -2.56923637e+01 -2.37223167e+01 -2.15186882e+01\n -2.46648293e+01 -2.18202362e+01 -2.28423901e+01 -2.66668282e+01\n -2.54570675e+01 -2.34265995e+01 -2.41962605e+01 -2.47803516e+01\n -2.64449539e+01 -2.52282486e+01 -2.71757622e+01 -2.76844292e+01\n -2.77622738e+01 -2.54862595e+01 -2.22152863e+01 -5.99113750e+00\n -9.39284897e+00 -1.05084381e+01 -9.16584015e+00 -8.14331055e+00\n -4.78062010e+00 -4.79674578e+00 -3.91684866e+00 -2.48044801e+00\n -2.11025548e+00 -7.15754747e-01  3.86888957e+00  7.08510113e+00\n  5.82125950e+00  1.98158050e+00  6.23196793e+00  1.17333088e+01\n  7.54597092e+00  8.21501434e-01  6.86890936e+00  9.23278236e+00\n  7.55622292e+00  7.97111988e+00  3.88275027e+00  7.68210351e-01\n  1.45389497e+00 -4.31773806e+00 -4.45232868e+00  7.08354712e-01\n  5.09869766e+00  7.09678221e+00  8.06081772e+00  1.14524221e+01\n  1.31098804e+01  5.48350096e+00  6.80357361e+00  9.24952888e+00\n  1.01117582e+01  3.58964777e+00 -7.15499973e+00 -4.75379944e+00\n -1.01409435e+01 -1.85078545e+01 -2.87737274e+01 -3.15036240e+01\n -2.84982109e+01 -2.70877171e+01 -2.35960751e+01 -1.88224316e+01\n -1.75023308e+01 -1.96020279e+01 -1.83286514e+01 -1.55383110e+01\n -1.53726454e+01 -1.51710739e+01 -1.28459263e+01 -1.57681866e+01\n -2.12761402e+01 -1.86760941e+01 -1.85362568e+01 -2.09418945e+01\n -2.32478828e+01 -1.98864899e+01 -1.94830246e+01 -2.47986450e+01\n -2.56896896e+01 -2.63545551e+01 -2.47768536e+01 -2.18843727e+01\n -2.37597389e+01 -2.33744507e+01 -2.03490505e+01 -1.87702179e+01\n -2.56823273e+01 -2.93660431e+01 -2.63152027e+01 -2.51989136e+01\n -1.97111015e+01 -1.51231594e+01 -1.08002138e+01 -1.43348134e+00\n  2.07603955e+00 -4.63126993e+00 -2.46399522e+00 -1.51342535e+00\n -5.97720242e+00 -7.95580053e+00 -9.40732384e+00 -5.30679703e+00\n -4.02597427e+00 -4.00325108e+00 -5.91279984e+00 -6.35568762e+00\n -6.21260166e+00 -1.03678761e+01 -1.16371269e+01 -1.17404299e+01\n -1.00144911e+01 -8.92850685e+00 -1.41605501e+01 -1.69222374e+01\n -8.90172958e+00 -8.44735336e+00 -1.45763998e+01 -1.50533857e+01\n -1.45573788e+01 -1.35280800e+01 -1.57282000e+01 -1.67708855e+01\n -1.33644352e+01 -1.04923115e+01 -7.59830666e+00 -8.26104069e+00\n -8.45759201e+00 -8.02705860e+00 -9.58974743e+00 -1.32648983e+01\n -1.92939568e+01 -1.89492016e+01 -2.77006798e+01 -1.72469044e+01\n -8.86376953e+00 -2.09870577e+00 -2.35208869e+00 -7.18176079e+00\n -1.14747143e+01 -1.18852787e+01 -6.89527130e+00 -6.26273632e+00\n -5.69858360e+00 -7.64117146e+00 -1.32462311e+01 -1.02408924e+01\n -4.67274141e+00 -3.91470790e+00 -1.42840469e+00 -2.48766255e+00\n -7.26559544e+00 -9.30090523e+00 -7.31649733e+00 -4.01891804e+00\n -6.09029675e+00 -1.11875896e+01 -7.69074631e+00 -5.88096809e+00\n -1.32597280e+00 -7.52000999e+00 -7.98387337e+00 -4.70166636e+00\n -4.40531731e+00 -8.96072030e-01 -2.62739038e+00 -4.75635672e+00\n -3.50639701e+00 -5.19651794e+00 -1.07193985e+01 -1.84682274e+01\n -4.72460508e+00  3.79625273e+00  2.76980460e-01 -7.69190216e+00\n -7.64831638e+00 -1.43420677e+01 -1.43463078e+01 -1.34580965e+01\n -1.05619602e+01 -1.09893742e+01 -1.29859505e+01 -1.31942387e+01\n -1.45089321e+01 -1.38223457e+01 -1.21213284e+01 -1.54745998e+01\n -1.73213615e+01 -1.51099205e+01 -1.75969734e+01 -1.83285770e+01\n -1.81991196e+01 -2.08166828e+01 -1.89746933e+01 -1.57127075e+01\n -2.04371719e+01 -1.77866001e+01 -1.80561638e+01 -1.69571819e+01\n -1.67252197e+01 -1.43282623e+01 -1.23275318e+01 -1.22224922e+01\n -1.26916656e+01 -1.90426903e+01 -1.99236336e+01 -1.66839790e+01\n -1.87761002e+01 -1.97144432e+01 -1.47115192e+01  3.03375769e+00\n  6.77291393e+00 -1.94718003e+00 -1.30028620e+01 -1.62944336e+01\n -1.70479412e+01 -1.00161343e+01 -5.36497688e+00 -7.65923929e+00\n  3.83527696e-01  4.13481569e+00  2.09900331e+00  1.90389657e+00\n  3.13279104e+00  2.51452446e+00  5.28419614e-01 -3.80172515e+00\n -7.11145639e+00 -3.89521122e+00 -1.87634933e+00 -4.42865086e+00\n -8.39266968e+00 -8.39807606e+00 -3.40779328e+00 -2.81163549e+00\n -5.93219280e+00 -1.11000786e+01 -1.34072475e+01 -1.42351475e+01\n -1.29177399e+01 -1.02287540e+01 -1.09786282e+01 -9.75668335e+00\n -9.09105968e+00 -1.04746990e+01 -7.24580002e+00 -3.62215614e+00\n -5.77505779e+00 -5.85521126e+00 -4.06966019e+00 -8.00363731e+00\n -1.46065521e+01 -1.41946411e+01 -1.38319120e+01 -1.24712620e+01\n -9.79441452e+00 -8.31602097e+00 -5.59113407e+00 -3.97735834e+00\n -1.11143074e+01 -1.62752953e+01 -1.15679188e+01 -1.27565451e+01\n -1.74498920e+01 -9.08873367e+00 -6.62337923e+00 -8.68989754e+00\n -8.23377037e+00 -1.03068476e+01 -1.14005203e+01 -7.99304104e+00\n -9.10154533e+00 -1.23660183e+01 -1.10908051e+01 -9.58783245e+00\n -6.99070406e+00 -4.45361710e+00 -9.83820343e+00 -9.32155418e+00\n -4.23390484e+00 -4.63523388e+00 -7.87230301e+00 -1.02797623e+01\n -1.05503120e+01 -6.39180660e+00 -6.55683231e+00 -9.64403820e+00\n -4.37237024e+00 -6.15477419e+00 -1.78210139e+00 -5.16757488e-01\n -1.96771550e+00 -9.63210106e+00 -1.52504978e+01 -1.73135262e+01\n -1.77467194e+01 -1.56169052e+01 -1.35616226e+01 -1.23681421e+01\n -1.63473682e+01 -1.65371208e+01 -1.30609293e+01 -1.20811300e+01\n -1.29473553e+01 -1.65540600e+01 -1.86400871e+01 -1.67290382e+01\n -1.74402351e+01 -1.63264961e+01 -1.41922979e+01 -1.11915979e+01\n -1.19045162e+01 -1.36692715e+01 -1.63494625e+01 -1.71678066e+01\n -1.72948647e+01 -1.61336441e+01 -1.02522430e+01 -9.08078766e+00\n -8.55306816e+00 -1.44315605e+01 -1.85890675e+01 -1.62366066e+01\n -1.01061382e+01 -8.86216164e+00 -8.25255585e+00 -3.94339371e+00].\nReshape your data either using array.reshape(-1, 1) if your data has a single feature or array.reshape(1, -1) if it contains a single sample."
     ]
    }
   ],
   "source": [
    "import os\n",
    "import librosa\n",
    "import numpy as np\n",
    "from sklearn.decomposition import PCA\n",
    "\n",
    "# Path ke folder data suara\n",
    "folder_path = \"test2\"\n",
    "\n",
    "# Mendapatkan list file suara dalam folder\n",
    "file_list = os.listdir(folder_path)\n",
    "\n",
    "# Loop melalui file-file dalam folder\n",
    "for file_name in file_list:\n",
    "    # Path ke file suara\n",
    "    audio_path = os.path.join(folder_path, file_name)\n",
    "    # Fungsi untuk mengekstraksi fitur MFCC dari suara\n",
    "    def extract_mfcc_2(file_path, n_mfcc=20, hop_length=512, n_fft=2048):\n",
    "        audio_data, sr = librosa.load(file_path)\n",
    "        mfcc = librosa.feature.mfcc(y=audio_data, sr=sr, n_mfcc=n_mfcc, hop_length=hop_length, n_fft=n_fft)\n",
    "        return mfcc\n",
    "    \n",
    "\n",
    "    mfcc_contoh_suara = extract_mfcc_2(audio_path)\n",
    "    mfcc_contoh_suara = np.ravel(mfcc_contoh_suara)\n",
    "    \n",
    "    # Reduksi dimensi fitur MFCC menggunakan PCA\n",
    "    pca = PCA(n_components=20)\n",
    "    mfcc_contoh_suara = pca.fit_transform(mfcc_contoh_suara)\n",
    "    \n",
    "    # Ubah dimensi MFCC agar sesuai dengan model\n",
    "    mfcc_contoh_suara = mfcc_contoh_suara.reshape(1, -1)\n",
    "    \n",
    "    # Lakukan prediksi menggunakan model\n",
    "    prediksi_contoh_suara = model.predict(mfcc_contoh_suara)\n",
    "    \n",
    "    # Mendapatkan label prediksi\n",
    "    label_prediksi = \"Suara \" + str(prediksi_contoh_suara[0])\n",
    "    \n",
    "    # Tampilkan hasil prediksi\n",
    "    print(\"File:\", file_name)\n",
    "    print(\"Prediksi:\", label_prediksi)\n",
    "    print()"
   ]
  },
  {
   "cell_type": "code",
   "execution_count": null,
   "metadata": {},
   "outputs": [],
   "source": [
    "contoh_suara = \"Suara Tinggi/algi_8(4).wav\"\n",
    "mfcc_contoh_suara = extract_mfcc(contoh_suara)\n",
    "prediksi_contoh_suara = model.predict(mfcc_contoh_suara)\n",
    "print(\"Prediksi :\", \"Suara \", prediksi_contoh_suara[0])"
   ]
  },
  {
   "cell_type": "code",
   "execution_count": null,
   "metadata": {},
   "outputs": [],
   "source": [
    "import matplotlib.pyplot as plt\n",
    "\n",
    "# Mengambil pentingnya fitur dari model Random Forest\n",
    "feature_importances = model.feature_importances_\n",
    "\n",
    "# Menampilkan pentingnya fitur dalam bentuk grafik batang\n",
    "n_features = X.shape[1]\n",
    "plt.figure(figsize=(10, 6))\n",
    "plt.bar(range(n_features), feature_importances)\n",
    "plt.xticks(range(n_features), range(1, n_features+1))\n",
    "plt.xlabel('Fitur MFCC')\n",
    "plt.ylabel('Pentingnya Fitur')\n",
    "plt.title('Pentingnya Fitur dalam Model Random Forest')\n",
    "plt.show()"
   ]
  },
  {
   "cell_type": "code",
   "execution_count": null,
   "metadata": {},
   "outputs": [],
   "source": []
  }
 ],
 "metadata": {
  "kernelspec": {
   "display_name": "Python 3",
   "language": "python",
   "name": "python3"
  },
  "language_info": {
   "codemirror_mode": {
    "name": "ipython",
    "version": 3
   },
   "file_extension": ".py",
   "mimetype": "text/x-python",
   "name": "python",
   "nbconvert_exporter": "python",
   "pygments_lexer": "ipython3",
   "version": "3.8.10"
  },
  "orig_nbformat": 4
 },
 "nbformat": 4,
 "nbformat_minor": 2
}
