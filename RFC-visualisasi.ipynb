{
 "cells": [
  {
   "cell_type": "code",
   "execution_count": 1,
   "metadata": {},
   "outputs": [],
   "source": [
    "import os\n",
    "import librosa\n",
    "import numpy as np\n",
    "from sklearn.model_selection import train_test_split\n",
    "from sklearn.ensemble import RandomForestClassifier\n",
    "from sklearn.metrics import classification_report, confusion_matrix"
   ]
  },
  {
   "cell_type": "code",
   "execution_count": 2,
   "metadata": {},
   "outputs": [],
   "source": [
    "import matplotlib.pyplot as plt"
   ]
  },
  {
   "cell_type": "code",
   "execution_count": 3,
   "metadata": {},
   "outputs": [],
   "source": [
    "# Menentukan direktori dataset suara tinggi dan rendah\n",
    "tinggi_dir = 'Suara Tinggi'\n",
    "rendah_dir = 'Suara rendah'"
   ]
  },
  {
   "cell_type": "code",
   "execution_count": 5,
   "metadata": {},
   "outputs": [
    {
     "ename": "AttributeError",
     "evalue": "module 'librosa.display' has no attribute 'waveplot'",
     "output_type": "error",
     "traceback": [
      "\u001b[1;31m---------------------------------------------------------------------------\u001b[0m",
      "\u001b[1;31mAttributeError\u001b[0m                            Traceback (most recent call last)",
      "\u001b[1;32md:\\TUGAS KULIAH\\SEMESTER 8\\ta-nurul\\RFC-visualisasi.ipynb Cell 4\u001b[0m in \u001b[0;36m3\n\u001b[0;32m     <a href='vscode-notebook-cell:/d%3A/TUGAS%20KULIAH/SEMESTER%208/ta-nurul/RFC-visualisasi.ipynb#W4sZmlsZQ%3D%3D?line=28'>29</a>\u001b[0m sound, sr \u001b[39m=\u001b[39m librosa\u001b[39m.\u001b[39mload(file)\n\u001b[0;32m     <a href='vscode-notebook-cell:/d%3A/TUGAS%20KULIAH/SEMESTER%208/ta-nurul/RFC-visualisasi.ipynb#W4sZmlsZQ%3D%3D?line=29'>30</a>\u001b[0m plt\u001b[39m.\u001b[39mfigure(figsize\u001b[39m=\u001b[39m(\u001b[39m10\u001b[39m, \u001b[39m4\u001b[39m))\n\u001b[1;32m---> <a href='vscode-notebook-cell:/d%3A/TUGAS%20KULIAH/SEMESTER%208/ta-nurul/RFC-visualisasi.ipynb#W4sZmlsZQ%3D%3D?line=30'>31</a>\u001b[0m librosa\u001b[39m.\u001b[39;49mdisplay\u001b[39m.\u001b[39;49mwaveplot(sound, sr\u001b[39m=\u001b[39msr)\n\u001b[0;32m     <a href='vscode-notebook-cell:/d%3A/TUGAS%20KULIAH/SEMESTER%208/ta-nurul/RFC-visualisasi.ipynb#W4sZmlsZQ%3D%3D?line=31'>32</a>\u001b[0m plt\u001b[39m.\u001b[39mtitle(\u001b[39mf\u001b[39m\u001b[39m'\u001b[39m\u001b[39mSuara Tinggi - \u001b[39m\u001b[39m{\u001b[39;00mfile\u001b[39m}\u001b[39;00m\u001b[39m'\u001b[39m)\n\u001b[0;32m     <a href='vscode-notebook-cell:/d%3A/TUGAS%20KULIAH/SEMESTER%208/ta-nurul/RFC-visualisasi.ipynb#W4sZmlsZQ%3D%3D?line=32'>33</a>\u001b[0m plt\u001b[39m.\u001b[39mxlabel(\u001b[39m'\u001b[39m\u001b[39mWaktu (detik)\u001b[39m\u001b[39m'\u001b[39m)\n",
      "\u001b[1;31mAttributeError\u001b[0m: module 'librosa.display' has no attribute 'waveplot'"
     ]
    },
    {
     "data": {
      "text/plain": [
       "<Figure size 1000x400 with 0 Axes>"
      ]
     },
     "metadata": {},
     "output_type": "display_data"
    }
   ],
   "source": [
    "import matplotlib.pyplot as plt\n",
    "import wave\n",
    "import numpy as np\n",
    "\n",
    "# Menghitung jumlah data suara tinggi dan rendah\n",
    "jumlah_tinggi = len(os.listdir(tinggi_dir))\n",
    "jumlah_rendah = len(os.listdir(rendah_dir))\n",
    "\n",
    "# Menginisialisasi array untuk menyimpan path file suara tinggi dan rendah\n",
    "tinggi_files = []\n",
    "rendah_files = []\n",
    "\n",
    "# Mengisi array dengan path file suara tinggi\n",
    "for filename in os.listdir(tinggi_dir):\n",
    "    if filename.endswith('.wav'):\n",
    "        tinggi_files.append(os.path.join(tinggi_dir, filename))\n",
    "\n",
    "# Mengisi array dengan path file suara rendah\n",
    "for filename in os.listdir(rendah_dir):\n",
    "    if filename.endswith('.wav'):\n",
    "        rendah_files.append(os.path.join(rendah_dir, filename))\n",
    "\n",
    "# Mengambil 3 file secara acak dari setiap kelas\n",
    "tinggi_files = np.random.choice(tinggi_files, size=3, replace=False)\n",
    "rendah_files = np.random.choice(rendah_files, size=3, replace=False)\n",
    "\n",
    "# Visualisasi suara tinggi\n",
    "for file in tinggi_files:\n",
    "    sound, sr = librosa.load(file)\n",
    "    plt.figure(figsize=(10, 4))\n",
    "    librosa.display.waveplot(sound, sr=sr)\n",
    "    plt.title(f'Suara Tinggi - {file}')\n",
    "    plt.xlabel('Waktu (detik)')\n",
    "    plt.ylabel('Amplitudo')\n",
    "    plt.show()\n",
    "\n",
    "# Visualisasi suara rendah\n",
    "for file in rendah_files:\n",
    "    sound, sr = librosa.load(file)\n",
    "    plt.figure(figsize=(10, 4))\n",
    "    librosa.display.waveplot(sound, sr=sr)\n",
    "    plt.title(f'Suara Rendah - {file}')\n",
    "    plt.xlabel('Waktu (detik)')\n",
    "    plt.ylabel('Amplitudo')\n",
    "    plt.show()\n"
   ]
  },
  {
   "cell_type": "code",
   "execution_count": null,
   "metadata": {},
   "outputs": [],
   "source": []
  }
 ],
 "metadata": {
  "kernelspec": {
   "display_name": "Python 3",
   "language": "python",
   "name": "python3"
  },
  "language_info": {
   "codemirror_mode": {
    "name": "ipython",
    "version": 3
   },
   "file_extension": ".py",
   "mimetype": "text/x-python",
   "name": "python",
   "nbconvert_exporter": "python",
   "pygments_lexer": "ipython3",
   "version": "3.8.10"
  },
  "orig_nbformat": 4
 },
 "nbformat": 4,
 "nbformat_minor": 2
}
